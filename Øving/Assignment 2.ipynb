{
 "cells": [
  {
   "cell_type": "markdown",
   "metadata": {},
   "source": [
    "# MA2501 - Assignment 2\n",
    "----\n",
    "By Markus Valås Hagen, \n",
    "Andreas Palm Sivertsen & \n",
    "Thomas Wilskow Thorbjørnsen"
   ]
  },
  {
   "cell_type": "markdown",
   "metadata": {},
   "source": [
    "## Information regarding this project\n",
    "----\n",
    "This project wasn't originally written in jupyter but it is ported into this notebook. Please note this if something might have been written in a weird way for being a Jupyter notebook"
   ]
  },
  {
   "cell_type": "markdown",
   "metadata": {},
   "source": [
    "### Imports\n",
    "-------"
   ]
  },
  {
   "cell_type": "code",
   "execution_count": null,
   "metadata": {},
   "outputs": [],
   "source": [
    "import matplotlib.pyplot as plt\n",
    "import autograd.numpy as np\n",
    "import functools as func\n",
    "import time\n",
    "\n",
    "from autograd.builtins import list, dict, tuple\n",
    "from autograd import jacobian, grad\n",
    "from operator import mul\n",
    "from functools import reduce\n",
    "from math import factorial, floor"
   ]
  },
  {
   "cell_type": "markdown",
   "metadata": {},
   "source": [
    "# Preliminary Code\n",
    "----"
   ]
  },
  {
   "cell_type": "markdown",
   "metadata": {},
   "source": [
    "## Binary Search\n",
    "----"
   ]
  },
  {
   "cell_type": "code",
   "execution_count": null,
   "metadata": {},
   "outputs": [],
   "source": [
    "def binarySearch(array, searchFor):\n",
    "    \"\"\"\n",
    "    Binary search adapted to lower the worst case runtime for pwf from N to lg(N)\n",
    "    Parameters\n",
    "    ----------\n",
    "    array :: [Double]\n",
    "    searchFor :: Double\n",
    "    Returns\n",
    "    ----------\n",
    "    Returns the index i where search for is greater than array[i], but less than array[i+1], if these exist\n",
    "    \"\"\"\n",
    "    minIndex = 0\n",
    "    m = len(array) - 1\n",
    "    maxIndex = m\n",
    "    midIndex = floor((minIndex + maxIndex)/2)\n",
    "\n",
    "    while maxIndex >= minIndex:\n",
    "        midIndex = floor((minIndex + maxIndex)/2)\n",
    "        \n",
    "        if midIndex == m:\n",
    "            return m\n",
    "        \n",
    "        v = array[midIndex]\n",
    "\n",
    "        if searchFor < v:\n",
    "            maxIndex = midIndex - 1\n",
    "\n",
    "        elif searchFor > v:\n",
    "            minIndex = midIndex + 1\n",
    "\n",
    "        elif searchFor == v:\n",
    "            return midIndex\n",
    "\n",
    "\n",
    "    if v <= searchFor <= array[midIndex+1]:\n",
    "        return midIndex\n",
    "    return midIndex-1"
   ]
  },
  {
   "cell_type": "markdown",
   "metadata": {},
   "source": [
    "## Gradients and gradient Descent\n",
    "----"
   ]
  },
  {
   "cell_type": "code",
   "execution_count": null,
   "metadata": {},
   "outputs": [],
   "source": [
    "def binarySearch(array, searchFor):\n",
    "    minIndex = 0\n",
    "    m = len(array) - 1\n",
    "    maxIndex = m\n",
    "    midIndex = floor((minIndex + maxIndex)/2)\n",
    "\n",
    "    while maxIndex >= minIndex:\n",
    "        midIndex = floor((minIndex + maxIndex)/2)\n",
    "        \n",
    "        v = array[midIndex]\n",
    "\n",
    "        if searchFor < v:\n",
    "            maxIndex = midIndex - 1\n",
    "\n",
    "        elif searchFor > v:\n",
    "            minIndex = midIndex + 1\n",
    "\n",
    "        elif searchFor == v:\n",
    "            return midIndex\n",
    "\n",
    "    if v <= searchFor:\n",
    "        return midIndex\n",
    "    else:\n",
    "        return midIndex-1"
   ]
  },
  {
   "cell_type": "markdown",
   "metadata": {},
   "source": [
    "## Function storing, easy plotting and more!\n",
    "----"
   ]
  },
  {
   "cell_type": "code",
   "execution_count": null,
   "metadata": {},
   "outputs": [],
   "source": [
    "class Plottable():\n",
    "    __slots__ = [\"function\", \"start\", \"end\", \"history\", \"gradient\"]\n",
    "\n",
    "    def __init__(self, function=lambda x: 0, mi=0, ma=1, gradient = None):\n",
    "        self.function, self.start, self.end, self.history = function, mi, ma, []\n",
    "        if gradient == None:\n",
    "            self.gradient = self.diff()\n",
    "        else:\n",
    "            self.gradient = gradient\n",
    "\n",
    "    def plot(self, *args, start=None, end=None, step=500, **kwargs):\n",
    "        if start == None or end == None:\n",
    "            xs = np.linspace(self.end, self.start, step)\n",
    "            ys = list(map(self.function, xs))\n",
    "        else:\n",
    "            xs = np.linspace(start, end, step)\n",
    "            ys = list(map(self.function, xs))\n",
    "        plt.plot(xs, ys, *args, **kwargs)\n",
    "\n",
    "    def __repr__(self):  # Class representation\n",
    "        plt.figure()\n",
    "        self.plot()\n",
    "        plt.show()\n",
    "        return \"printed!\"\n",
    "\n",
    "    def __call__(self, *args):  # Function calling overloading\n",
    "        return self.function(*args)\n",
    "\n",
    "    def diff(self):\n",
    "        return grad(self.function)"
   ]
  },
  {
   "cell_type": "markdown",
   "metadata": {},
   "source": [
    "## Nodespreads\n",
    "----"
   ]
  },
  {
   "cell_type": "code",
   "execution_count": null,
   "metadata": {},
   "outputs": [],
   "source": [
    "def equiX(a,b,N):\n",
    "    return np.linspace(a,b,N)\n",
    "\n",
    "def equiNode(start, end, step, f = lambda x: 0):\n",
    "    xs = np.linspace(start, end, step)\n",
    "    ys = map(f, xs)\n",
    "    return [a for a in zip(xs, ys)]\n",
    "\n",
    "def chebyX(a,b,N):\n",
    "    return [(b-a)/2*(np.cos(np.pi*(2*x+1)/(2*N))) + (b+a)/2 for x in range(N)]\n",
    "\n",
    "def chebyNode(start, end, steps, f = lambda x: 0):\n",
    "    xs = [(end - start) / 2 * (np.cos(np.pi * (2 * x + 1) / (2 * steps))) + (end + start) / 2 for x in range(steps)]\n",
    "    ys = map(f, xs)\n",
    "    return [(x, y) for (x, y) in zip(xs, ys)]"
   ]
  },
  {
   "cell_type": "markdown",
   "metadata": {},
   "source": [
    "## Test functions\n",
    "----"
   ]
  },
  {
   "cell_type": "code",
   "execution_count": null,
   "metadata": {},
   "outputs": [],
   "source": [
    "# This is supposed to be defined on [0,1]\n",
    "def a(x):\n",
    "    return np.cos(2 * np.pi * x)\n",
    "\n",
    "# This is supposed to be defined on [0,π/4]\n",
    "def b(x):\n",
    "    return np.exp(3 * x) * np.sin(2 * x)\n",
    "\n",
    "def runge(x):\n",
    "    \"\"\"\n",
    "    The runge function\n",
    "    Parameters\n",
    "    ----------\n",
    "    x :: Double\n",
    "        The value to evaluate in\n",
    "    Returns\n",
    "    ----------\n",
    "    Returns the evaluation at x\n",
    "    \"\"\"\n",
    "    return 1 / (x ** 2 + 1)\n",
    "\n",
    "def exfunc(x):\n",
    "    return (3/4)*(np.exp((-1/4)*(9*x - 2)**2) + np.exp((-1/49)*(9*x + 1)**2)) + (1/2)*np.exp((-1/4)*(9*x - 7)**2) - (1/10)*np.exp(-(9*x - 4)**2)"
   ]
  },
  {
   "cell_type": "markdown",
   "metadata": {},
   "source": [
    "# Lagrange Interpolation\n",
    "----"
   ]
  },
  {
   "cell_type": "markdown",
   "metadata": {},
   "source": [
    "## Lagrange Interpolation\n",
    "----\n"
   ]
  },
  {
   "cell_type": "code",
   "execution_count": null,
   "metadata": {},
   "outputs": [],
   "source": [
    "def lagrangify(ps):\n",
    "    if len(ps) == 1:\n",
    "        return lambda x : ps[0][1]\n",
    "    else:\n",
    "        λj = lambda j, ls, x: ps[j][1] * func.reduce(mul, [1] + [(x - arg) / (ls[j] - arg) for arg in ls if ls[j] != arg])\n",
    "        return lambda x : sum([λj(i, [χ for χ,_ in ps], x) for i in range(len(ps))])\n",
    "\n",
    "class LagrangePol(Plottable):\n",
    "\n",
    "    def __init__(self, ps):\n",
    "        xs = [x for x,_ in ps]\n",
    "        start, end = min(xs), max(xs)\n",
    "        function = lagrangify(ps)\n",
    "        super().__init__(function, start, end, gradient = None)"
   ]
  },
  {
   "cell_type": "markdown",
   "metadata": {},
   "source": [
    "## Spline Interpolation\n",
    "----"
   ]
  },
  {
   "cell_type": "code",
   "execution_count": null,
   "metadata": {},
   "outputs": [],
   "source": [
    "def splinify(ips):\n",
    "    intervals = [x for x,_ in [min(ps) for ps in ips]]\n",
    "    functions = [lagrangify(ps) for ps in ips]\n",
    "\n",
    "    def pwf(x):\n",
    "        i = binarySearch(intervals, x)\n",
    "        return functions[i](x)\n",
    "        \n",
    "    return pwf\n",
    "\n",
    "class SplinePol(Plottable):\n",
    "\n",
    "    def __init__(self, ips):\n",
    "        function = splinify(ips)\n",
    "        minxs, maxxs = [x for x,_ in ips[0]], [x for x,_ in ips[-1]]\n",
    "        start, end = min(minxs), max(maxxs)\n",
    "        super().__init__(function, start, end, gradient = None)"
   ]
  },
  {
   "cell_type": "markdown",
   "metadata": {},
   "source": [
    "## Optimization of Lagrange Interpolation\n",
    "----"
   ]
  },
  {
   "cell_type": "code",
   "execution_count": null,
   "metadata": {},
   "outputs": [],
   "source": [
    "def optLagrangify(psKnown, xs):\n",
    "\n",
    "    ls = [x for x,_ in psKnown]\n",
    "    a, b, N = min(ls), max(ls), len(ls)\n",
    "\n",
    "    def lap(psKnown = psKnown):\n",
    "        xsKnown, ysKnown = [], []\n",
    "        for x,y in psKnown:\n",
    "            xsKnown.append(x)\n",
    "            ysKnown.append(y)\n",
    "        def funkyfy(x):\n",
    "            i = binarySearch(ls, x)\n",
    "            if i >= N-1:\n",
    "                i = N-2\n",
    "            a = (ysKnown[i+1]-ysKnown[i])/(xsKnown[i+1]-xsKnown[i])\n",
    "            return a*x+ysKnown[i]-a*xsKnown[i]\n",
    "        return lambda x: funkyfy(x)\n",
    "\n",
    "    f = lap()\n",
    "\n",
    "    def cost(ks):\n",
    "        ps = [(x,f(x)) for x in ks]\n",
    "        k = (b-a)/N\n",
    "        s = 0\n",
    "        p = lagrangify(ps)\n",
    "        for x,y in psKnown:\n",
    "            s = s + (y-p(x))**2\n",
    "        return k*s\n",
    "\n",
    "    def lagGrad(i, ks, x):\n",
    "        partOne = grad(f)(ks[i])*func.reduce(mul, [1] + [(x - ks[k])/(ks[i]-ks[k]) for k in range(len(ks)) if i != k])\n",
    "        partTwo = f(ks[i])*sum([(ks[k]-x)/((ks[i]-ks[k])**2)*func.reduce(mul, [1] + [(x-ks[j])/(ks[i]-ks[j]) for j in range(len(ks)) if j != i and j != k]) for k in range(len(ks)) if k != i])\n",
    "        partThree = sum([f(ks[k])*(x-ks[k])/((ks[k]-ks[i])**2)*func.reduce(mul, [1] + [(x-ks[j])/(ks[k]-ks[j]) for j in range(len(ks)) if k != j and j != i]) for k in range(len(ks)) if k != i])\n",
    "        return partOne + partTwo + partThree\n",
    "\n",
    "    def gradient(ks):\n",
    "        ps = [(x,f(x)) for x in ks]\n",
    "        k = 2*(a-b)/N\n",
    "        s = np.full(ks.shape, 0)\n",
    "        p = lagrangify(ps)\n",
    "        dp = lambda x: np.array([lagGrad(i, ks, x) for i in range(len(ks))])\n",
    "        for x,y in psKnown:\n",
    "            dps = dp(x)\n",
    "            c = y-p(x)\n",
    "            s = s + c*dps\n",
    "        return k*s\n",
    "\n",
    "    cp = Plottable(cost, None, None, gradient)\n",
    "    bNodes = gradientDescent(cp, np.array(xs))\n",
    "    pbNodes = [(x,f(x)) for x in bNodes]\n",
    "\n",
    "    return lagrangify(pbNodes), cp.history\n",
    "\n",
    "\n",
    "class OptLagrangePol(Plottable):\n",
    "    \n",
    "    def __init__(self, psKnown, xStart):\n",
    "        ls = [x for x,_ in psKnown]\n",
    "        start, end = min(ls), max(ls)\n",
    "        function, hs = optLagrangify(psKnown, xStart)\n",
    "        super().__init__(function, start, end, None)\n",
    "        self.history = hs"
   ]
  },
  {
   "cell_type": "markdown",
   "metadata": {},
   "source": [
    "#### Optimization of Lagrange interpolation with known function\n",
    "----"
   ]
  },
  {
   "cell_type": "code",
   "execution_count": null,
   "metadata": {},
   "outputs": [],
   "source": [
    "def optLagrangifyLeg(f, psKnown, xs):\n",
    "\n",
    "    ls = [x for x,_ in psKnown]\n",
    "    a, b, N = min(ls), max(ls), len(ls)\n",
    "\n",
    "    def cost(ks):\n",
    "        ps = [(x,f(x)) for x in ks]\n",
    "        k = (b-a)/N\n",
    "        s = 0\n",
    "        p = lagrangify(ps)\n",
    "        for x,y in psKnown:\n",
    "            s = s + (y-p(x))**2\n",
    "        return k*s\n",
    "\n",
    "    def lagGrad(i, ks, x):\n",
    "        partOne = grad(f)(ks[i])*func.reduce(mul, [1] + [(x - ks[k])/(ks[i]-ks[k]) for k in range(len(ks)) if i != k])\n",
    "        partTwo = f(ks[i])*sum([(ks[k]-x)/((ks[i]-ks[k])**2)*func.reduce(mul, [1] + [(x-ks[j])/(ks[i]-ks[j]) for j in range(len(ks)) if j != i and j != k]) for k in range(len(ks)) if k != i])\n",
    "        partThree = sum([f(ks[k])*(x-ks[k])/((ks[k]-ks[i])**2)*func.reduce(mul, [1] + [(x-ks[j])/(ks[k]-ks[j]) for j in range(len(ks)) if k != j and j != i]) for k in range(len(ks)) if k != i])\n",
    "        return partOne + partTwo + partThree\n",
    "\n",
    "    def gradient(ks):\n",
    "        ps = [(x,f(x)) for x in ks]\n",
    "        k = 2*(a-b)/N\n",
    "        s = np.full(ks.shape, 0)\n",
    "        p = lagrangify(ps)\n",
    "        dp = lambda x: np.array([lagGrad(i, ks, x) for i in range(len(ks))])\n",
    "        for x,y in psKnown:\n",
    "            dps = dp(x)\n",
    "            c = y-p(x)\n",
    "            s = s + c*dps\n",
    "        return k*s\n",
    "\n",
    "    cp = Plottable(cost, None, None, gradient)\n",
    "    bNodes = gradientDescent(cp, np.array(xs))\n",
    "    pbNodes = [(x,f(x)) for x in bNodes]\n",
    "\n",
    "    return lagrangify(pbNodes), cp.history\n",
    "\n",
    "\n",
    "class OptLagrangePolLeg(Plottable):\n",
    "        \n",
    "    def __init__(self, f, psKnown, xStart):\n",
    "        ls = [x for x,_ in psKnown]\n",
    "        start, end = min(ls), max(ls)\n",
    "        function, hs = optLagrangifyLeg(f, psKnown, xStart)\n",
    "        super().__init__(function, start, end, None)\n",
    "        self.history = hs"
   ]
  },
  {
   "cell_type": "markdown",
   "metadata": {},
   "source": [
    "# Radial Basis Function Interpolation\n",
    "----"
   ]
  },
  {
   "cell_type": "code",
   "execution_count": 21,
   "metadata": {},
   "outputs": [],
   "source": [
    "def coq(f, N, a, b):\n",
    "    \"\"\"\n",
    "    Global variable declaration\n",
    "    Parameters\n",
    "    ----------\n",
    "    f :: Function \n",
    "        The function to interpolate (used in the cost function and get_W)\n",
    "    N :: Int\n",
    "        Number of steps in the cost function\n",
    "    a :: Int\n",
    "        Start of nodes\n",
    "    b :: Int\n",
    "        End of nodes\n",
    "    \"\"\"\n",
    "    coq.f, coq.N, coq.a, coq.b = f, N, a, b\n",
    "\n",
    "def phi(r,e=3):\n",
    "    \"\"\"\n",
    "    Phi function used in RBF interpolation\n",
    "    Parameters\n",
    "    ----------\n",
    "    r :: Float\n",
    "        phi(abs(x-x)), r=abs(x-xi)\n",
    "    e :: Float\n",
    "        Shape parameter\n",
    "    Returns\n",
    "    ----------\n",
    "    Returns the calculated double\n",
    "    \"\"\"\n",
    "    return np.exp(-(e * r) ** 2)\n",
    "    \n",
    "\n",
    "def Get_w(x, e=3):\n",
    "    \"\"\"\n",
    "    Computes the vector w used in the interpolation\n",
    "    Parameters\n",
    "    ----------\n",
    "    x :: np.array(Double)\n",
    "        Nodes to interpolate, with the shape parameter as the last entry\n",
    "    e :: float\n",
    "        Shape parameter, often just x[-1]\n",
    "    Returns\n",
    "    ----------\n",
    "    Returns a NumPy array of doubles of the weights to apply in interpolation\n",
    "    \"\"\"\n",
    "    M = np.array([[phi(abs(x[i]-x[j]),e) for j in range(len(x)-1)] for i in range(len(x)-1)], dtype = float)\n",
    "    f_vec = np.array([coq.f(x[i]) for i in range(len(x)-1)])\n",
    "    ws = np.linalg.solve(M, f_vec)\n",
    "    return ws\n",
    "\n",
    "def interpolation(xs):\n",
    "    \"\"\"\n",
    "    This is the interpolated function\n",
    "    Paramters\n",
    "    ----------\n",
    "    xs :: np.array(Double)\n",
    "        array of points to interpolate over with the shape parameter as the last entry\n",
    "    Returns\n",
    "    ----------\n",
    "    Returns a function of the interpolation\n",
    "    \"\"\"\n",
    "    ws = Get_w(xs,xs[-1])\n",
    "    return lambda x: sum([ws[i]*phi(abs(x-xs[i]),xs[-1]) for i in range(len(xs)-1)])\n",
    "\n",
    "\n",
    "def cost_int(xs):\n",
    "    \"\"\"\n",
    "    Return the cost of the function\n",
    "    Parameters\n",
    "    ----------\n",
    "    xs :: np.array(Double)\n",
    "        nodes to interpolate, withe the shape parameter as the last entry\n",
    "    Returns\n",
    "    ----------\n",
    "    Returns a double of the cost of the interpolation \n",
    "    \"\"\"\n",
    "    \n",
    "    xis = np.array(equiX(coq.a, coq.b, coq.N))\n",
    "    g = interpolation(xs)\n",
    "    s = 0\n",
    "    for i in range(coq.N):\n",
    "        s = s + (coq.f(xis[i])-g(xis[i]))**2\n",
    "    return ((coq.b-coq.a)/coq.N)*s"
   ]
  },
  {
   "cell_type": "markdown",
   "metadata": {},
   "source": [
    "# Error Calculations\n",
    "----"
   ]
  },
  {
   "cell_type": "markdown",
   "metadata": {},
   "source": [
    "## Virtual Error Calculation class\n",
    "----"
   ]
  },
  {
   "cell_type": "code",
   "execution_count": null,
   "metadata": {},
   "outputs": [],
   "source": [
    "class ErrorCompare(Plottable):\n",
    "    __slots__ = [\"sqErr\", \"supErr\", \"N\"]\n",
    "\n",
    "    def __init__(self, function, mi, ma, n=10):\n",
    "        super().__init__(function, mi, ma)\n",
    "\n",
    "    @func.lru_cache(256)\n",
    "    def genny(self, steps=None):\n",
    "        return None\n",
    "\n",
    "    def err2(self, n, k):\n",
    "        p, f = [P[1] for P in equiNode(self.start, self.end, 100 * n, self.genny(steps=k).function)], [P[1] for P in equiNode(self.start, self.end, 100 * n, self.function)]\n",
    "        return np.sqrt((self.end - self.start) / (100 * n) * sum([(y - x) ** 2 for (x, y) in zip(p, f)]))\n",
    "\n",
    "    def errSup(self, n, k):\n",
    "        p, f = [P[1] for P in equiNode(self.start, self.end, 100 * n, self.genny(steps=k).function)], [P[1] for P in equiNode(self.start, self.end, 100 * n, self.function)]\n",
    "        return max([abs(y - x) for (x, y) in zip(p, f)])\n",
    "\n",
    "    def plot(self, *args, **kwargs):\n",
    "        '''Ploting the 2-norm and sup-norm as a function of the number of interpolations points used.'''\n",
    "        plt.semilogy(range(1, self.N + 1), self.sqErr, *args, label=\"Square Error\", *kwargs)\n",
    "        plt.semilogy(range(1, self.N + 1), self.supErr, *args, label=\"Sup Error\", *kwargs)\n",
    "        plt.legend()\n",
    "\n",
    "    def plot2(self, *args, **kwargs):\n",
    "        plt.semilogy(range(1, self.N+1), self.sqErr, *args, label=f\"Square Error with {self.nodes}nodes\", *kwargs)\n",
    "        plt.legend()"
   ]
  },
  {
   "cell_type": "markdown",
   "metadata": {},
   "source": [
    "## Error of Lagrange Interpolation\n",
    "----"
   ]
  },
  {
   "cell_type": "code",
   "execution_count": null,
   "metadata": {},
   "outputs": [],
   "source": [
    "class ErrorSpline(ErrorCompare):\n",
    "    __slots__ = [\"K\", \"extras\"]\n",
    "\n",
    "    def __init__(self, function, mi, ma, n=10, k=10, extra = False):\n",
    "        super().__init__(function, mi, ma)\n",
    "        self.N, self.K = n, k\n",
    "        if extra:\n",
    "            self.extras = [[self.errSup(self.N, (k+2, np)) for k in range(self.K)] for np in range(1,11)]\n",
    "        self.supErr = [self.errSup(self.N, (k+2, self.N)) for k in range(self.K)]  # Fiks dette Thomas!\n",
    "\n",
    "    @func.lru_cache(256)\n",
    "    def genny(self, steps=None):\n",
    "        intervals = np.linspace(self.start, self.end, steps[0])\n",
    "        intervals = [(intervals[i], intervals[i + 1]) for i in range(len(intervals) - 1)]\n",
    "        pintervals = [equiNode(mi, ma, steps[1], self.function) for (mi, ma) in intervals]\n",
    "        return SplinePol(pintervals)\n",
    "\n",
    "    def extraplot(self, *args, **kwargs):\n",
    "        for i in range(len(self.extras)):\n",
    "            plt.semilogy([k for k in range(1, self.K+1)], self.extras[i], *args, label = f\"Sup Error with n ={i+1}\", **kwargs)\n",
    "        plt.legend()\n",
    "\n",
    "    def plot(self, *args, **kwargs):\n",
    "        '''This is overloaded as we're plotting with another variable than the number of interpolation points'''\n",
    "        # plt.semilogy(range(2, self.K+2), self.sqErr, label = \"Square Error\")\n",
    "        plt.semilogy([self.N * i for i in range(1, self.K + 1)], self.supErr, *args, label=f\"Sup Error with n={self.N}\", **kwargs)\n",
    "        plt.legend()"
   ]
  },
  {
   "cell_type": "markdown",
   "metadata": {},
   "source": [
    "## Error of Spline Interpolation\n",
    "----"
   ]
  },
  {
   "cell_type": "code",
   "execution_count": null,
   "metadata": {},
   "outputs": [],
   "source": [
    "class ErrorSpline(ErrorCompare):\n",
    "    __slots__ = [\"K\", \"extras\"]\n",
    "\n",
    "    def __init__(self, function, mi, ma, n=10, k=10, extra = False):\n",
    "        super().__init__(function, mi, ma)\n",
    "        self.N, self.K = n, k\n",
    "        if extra:\n",
    "            self.extras = [[self.errSup(self.N, (k+2, np)) for k in range(self.K)] for np in range(1,11)]\n",
    "        self.supErr = [self.errSup(self.N, (k+2, self.N)) for k in range(self.K)]  # Fiks dette Thomas!\n",
    "\n",
    "    @func.lru_cache(256)\n",
    "    def genny(self, steps=None):\n",
    "        intervals = np.linspace(self.start, self.end, steps[0])\n",
    "        intervals = [(intervals[i], intervals[i + 1]) for i in range(len(intervals) - 1)]\n",
    "        pintervals = [equiNode(mi, ma, steps[1], self.function) for (mi, ma) in intervals]\n",
    "        return SplinePol(pintervals)\n",
    "\n",
    "    def extraplot(self, *args, **kwargs):\n",
    "        for i in range(len(self.extras)):\n",
    "            plt.semilogy([k for k in range(1, self.K+1)], self.extras[i], *args, label = f\"Sup Error with n ={i+1}\", **kwargs)\n",
    "        plt.legend()\n",
    "\n",
    "    def plot(self, *args, **kwargs):\n",
    "        '''This is overloaded as we're plotting with another variable than the number of interpolation points'''\n",
    "        # plt.semilogy(range(2, self.K+2), self.sqErr, label = \"Square Error\")\n",
    "        plt.semilogy([self.N * i for i in range(1, self.K + 1)], self.supErr, *args, label=f\"Sup Error with n={self.N}\", **kwargs)\n",
    "        plt.legend()"
   ]
  },
  {
   "cell_type": "markdown",
   "metadata": {},
   "source": [
    "## Error of Optimized Lagrange\n",
    "----"
   ]
  },
  {
   "cell_type": "code",
   "execution_count": null,
   "metadata": {},
   "outputs": [],
   "source": [
    "class ErrorOpt(ErrorCompare):\n",
    "    __slots__ = [\"v\", \"knownEqui\"]\n",
    "\n",
    "    def __init__(self, f, mi, ma, N = 1000, v = \"Equi\"):\n",
    "        self.function, self.start, self.end, self.N = f, mi, ma, N\n",
    "        self.knownEqui = equiNode(mi, ma, N, f)\n",
    "        self.v = \"Equi\"\n",
    "        self.sqErr = [self.err2(self.N, k) for k in range(1, 11)]\n",
    "\n",
    "\n",
    "    def genny(self, steps = 1):\n",
    "        xs = equiX(self.start, self.end, steps)\n",
    "        if self.v == \"Equi\":\n",
    "            return OptLagrangePol(self.knownEqui, xs)\n",
    "        # elif self.v == \"Cheby\":\n",
    "        #     return OptLangrangePol(self.knownCheby, steps)\n",
    "        return None\n",
    "\n",
    "    def plot(self, *args, **kwargs):\n",
    "        plt.semilogy(range(1, 11), self.sqErr, *args, label=\"Descent - Square Error\", *kwargs)\n",
    "        plt.legend()"
   ]
  },
  {
   "cell_type": "markdown",
   "metadata": {},
   "source": [
    "### Error of Optimized Lagrange when the function is known\n",
    "----"
   ]
  },
  {
   "cell_type": "code",
   "execution_count": null,
   "metadata": {},
   "outputs": [],
   "source": [
    "class ErrorOptLeg(ErrorCompare):\n",
    "    __slots__ = [\"v\", \"knownEqui\"]\n",
    "\n",
    "    def __init__(self, f, mi, ma, N = 1000, v = \"Equi\"):\n",
    "        self.function, self.start, self.end, self.N = f, mi, ma, N\n",
    "        self.knownEqui = equiNode(mi, ma, N, f)\n",
    "        self.v = \"Equi\"\n",
    "        self.sqErr = [self.err2(self.N, k) for k in range(1, 11)]\n",
    "\n",
    "\n",
    "    def genny(self, steps = 1):\n",
    "        xs = equiX(self.start, self.end, steps)\n",
    "        if self.v == \"Equi\":\n",
    "            return OptLagrangePolLeg(self.function, self.knownEqui, xs)\n",
    "        # elif self.v == \"Cheby\":\n",
    "        #     return OptLangrangePol(self.knownCheby, steps)\n",
    "        return None\n",
    "\n",
    "    def plot(self, *args, **kwargs):\n",
    "        plt.semilogy(range(1, 11), self.sqErr, *args, label=\"Descent - Square Error\", *kwargs)\n",
    "        plt.legend()"
   ]
  },
  {
   "cell_type": "markdown",
   "metadata": {},
   "source": [
    "## Error of Radial Basis Function Interpolation\n",
    "----"
   ]
  },
  {
   "cell_type": "code",
   "execution_count": null,
   "metadata": {},
   "outputs": [],
   "source": [
    "class ErrRBF(ErrorCompare):\n",
    "    \"\"\"\n",
    "    Class for comparing the Radial Basis Function Interpolation to the true function\n",
    "    Super-Class\n",
    "    ----------\n",
    "    Plottable -> ErrorCompare\n",
    "    Attributes\n",
    "    ----------\n",
    "    a :: Int\n",
    "        A variable acting as the switch argument in other programming languages\n",
    "    b :: [Double]\n",
    "        List of 2 norm error for non-optimized RBF Interpolation\n",
    "    Methods\n",
    "    ----------\n",
    "    genny(steps = None) - overloaded\n",
    "        A generator functionfor finding fitting interpolations\n",
    "    plot() - overloaded\n",
    "        This only plots relevant data\n",
    "    \"\"\"\n",
    "\n",
    "    __slots__ = [\"a\",\"b\"]\n",
    "    def __init__(self, f, mi, ma, n = 10):\n",
    "        \"\"\"\n",
    "        Class constructor, has no defualt constructor\n",
    "        Paramters\n",
    "        ----------\n",
    "        f :: Function\n",
    "            A real function\n",
    "        mi :: Double\n",
    "            start of test intervall\n",
    "        ma :: Double\n",
    "            end of test intervall\n",
    "        n :: Int\n",
    "            the amount of nodes to interpolate on\n",
    "        \"\"\"\n",
    "        super().__init__(f, mi ,ma, n)\n",
    "        self.N = n\n",
    "        self.a = 0\n",
    "        self.sqErr = [self.err2(self.N,h+1) for h in range(2,n+1)]\n",
    "        self.a = 1\n",
    "        self.b = [self.err2(self.N, h+1) for h in range(2,n+1)]\n",
    "\n",
    "    def genny(self, steps=None):\n",
    "        \"\"\"\n",
    "        The generator function\n",
    "        Parameters\n",
    "        ----------\n",
    "        steps = None\n",
    "            the amount of interpolation nodes\n",
    "        Returns\n",
    "        ----------\n",
    "        Returns the fitting interpolation\n",
    "        \"\"\"\n",
    "        coq(self.function, steps, self.min_dom, self.max_dom)\n",
    "        xs = equiX(self.min_dom,self.max_dom,steps)\n",
    "        tallet_3 = np.array([3])\n",
    "        xs = np.hstack((xs,tallet_3)) #This is for testing different start points of the shape parameter\n",
    "#        xs = chebyX(self.min_dom,self.max_dom,steps)\n",
    "        if self.a == 0:\n",
    "            nodes = gradientDescent(cost_int, xs)\n",
    "            g =interpolation(nodes)\n",
    "            return Plottable(g,self.min_dom,self.max_dom)\n",
    "        elif self.a == 1:\n",
    "            g = interpolation(xs)\n",
    "            return Plottable(g,self.min_dom,self.max_dom)\n",
    "\n",
    "    def plot(self, *args, **kwargs):# '''This is overloaded as we're plotting with another variable than the number of interpolation points'''\n",
    "        # plt.semilogy(range(2, self.K+2), self.sqErr, label = \"Square Error\")\n",
    "        plt.semilogy([i for i in range(2, self.N + 1)],self.sqErr, *args, label=\"sqrt Error grad Descent\", **kwargs)\n",
    "        plt.semilogy([i for i in range(2, self.N + 1)], self.b, *args, label=\"sqrt Error  w/o grad Descent\", **kwargs)\n",
    "        plt.legend()"
   ]
  },
  {
   "cell_type": "markdown",
   "metadata": {},
   "source": [
    "# Task Completions\n",
    "----"
   ]
  },
  {
   "cell_type": "markdown",
   "metadata": {},
   "source": [
    "## Task i\n",
    "----"
   ]
  },
  {
   "cell_type": "code",
   "execution_count": null,
   "metadata": {},
   "outputs": [],
   "source": [
    "plt.figure()\n",
    "plt.axes(xlabel = \"x\", ylabel = \"y\")\n",
    "r = LagrangePol(chebyNode(-5, 5, 10, runge))\n",
    "r.plot(label = \"Cheby\")\n",
    "p = LagrangePol(equiNode(-5, 5, 10, runge))\n",
    "p.plot(label = \"Equi\")\n",
    "plt.title(\"Chebyshev vs equidistant nodes for 1/(x^2+1)\")\n",
    "plt.legend()\n",
    "plt.show()"
   ]
  },
  {
   "cell_type": "markdown",
   "metadata": {},
   "source": [
    "## Task ii\n",
    "----"
   ]
  },
  {
   "cell_type": "code",
   "execution_count": null,
   "metadata": {},
   "outputs": [],
   "source": [
    "plt.figure()\n",
    "plt.axes(xlabel = \"n - Interpolation nodes\", ylabel = \"error\")\n",
    "v = ErrorLagrange(a, 0, 1, n = 20) #Interpolating the first function\n",
    "v.plot()\n",
    "(lambda ns: plt.plot(ns, list(map(lambda n: (2*np.pi)**(n+1)/factorial(n+1), ns)), 'b', label = \"Theoretic bound\"))(range(1,21)) # Plotting the theoretic bound\n",
    "plt.title(\"Equidistant vs Chebyshev error for cos(2πx)\")\n",
    "plt.legend()\n",
    "plt.show()\n",
    "plt.figure()\n",
    "plt.axes(xlabel = \"n - Interpolation nodes\", ylabel = \"error\")\n",
    "u = ErrorLagrange(b, 0, np.pi/4, 20) #Interpolating the second function\n",
    "u.plot2()\n",
    "plt.legend()\n",
    "plt.title(\"Equidistant vs Chebyshev error for e³ˣsin(2x)\")\n",
    "plt.show()"
   ]
  },
  {
   "cell_type": "markdown",
   "metadata": {},
   "source": [
    "## Task iii\n",
    "----"
   ]
  },
  {
   "cell_type": "code",
   "execution_count": null,
   "metadata": {},
   "outputs": [],
   "source": [
    "plt.figure()\n",
    "plt.axes(xlabel = \"k - intervals\", ylabel = \"error\")\n",
    "u = ErrorSpline(a, 0, 1, 5, 400, extra = True)\n",
    "u.extraplot()\n",
    "plt.title(\"Spline error comparison for cos(2πx)\")\n",
    "plt.show()\n",
    "\n",
    "plt.figure()\n",
    "plt.axes(xlabel = \"n - discretization nodes\", ylabel = \"error\")\n",
    "u.plot()\n",
    "plt.figure(\"Spline error decresing for n = 5 and cos(2πx)\")\n",
    "plt.show()"
   ]
  },
  {
   "cell_type": "markdown",
   "metadata": {},
   "source": [
    "### Extra plots\n",
    "----"
   ]
  },
  {
   "cell_type": "code",
   "execution_count": null,
   "metadata": {},
   "outputs": [],
   "source": [
    "def pint(f, start, slutt, noder, steps):\n",
    "  intervals = np.linspace(start, slutt, steps)\n",
    "  intervals = [(intervals[i], intervals[i + 1]) for i in range(len(intervals) - 1)]\n",
    "  return [equiNode(mi, ma, noder, f) for (mi, ma) in intervals]\n",
    "\n",
    "plt.figure()\n",
    "plt.axes(xlabel = \"x\", ylabel= \"y\")\n",
    "\n",
    "rung5 = PiecewiseLagrange(pint(runge,-5.0,5.0,3,7))\n",
    "rung5.plot(\":\",step=5000, label= \"n = 6\")\n",
    "\n",
    "print(\"Done with 6 intervals\")\n",
    "\n",
    "rung5 = PiecewiseLagrange(pint(runge,-5.0,5.0,3,6))\n",
    "rung5.plot(\":\",step=5000, label= \"n = 5\")\n",
    "\n",
    "print(\"Done with 5 intervals\")\n",
    "\n",
    "rung4 = PiecewiseLagrange(pint(runge,-5.0,5.0,3,5))\n",
    "rung4.plot(\":\",step=5000, label= \"n = 4\")\n",
    "\n",
    "print(\"Done with 4 intervals\")\n",
    "\n",
    "rung3 = PiecewiseLagrange(pint(runge,-5.0,5.0,3,4))\n",
    "rung3.plot(\":\",step=5000, label= \"n = 3\")\n",
    "\n",
    "print(\"Done with 3 intervals\")\n",
    "\n",
    "rung2 = PiecewiseLagrange(pint(runge,-5.0,5.0,3,3))\n",
    "rung2.plot(\":\",step=5000, label= \"n = 2\")\n",
    "\n",
    "print(\"Done with 2 intervals\")\n",
    "\n",
    "rung1 = PiecewiseLagrange(pint(runge,-5.0,5.0,3,2))\n",
    "rung1.plot(\":\",step=5000, label= \"n = 1\")\n",
    "\n",
    "print(\"Done with 1 intervals\")\n",
    "\n",
    "c = Lagrange(chebyNode(-5, 5, 10, runge))\n",
    "c.plot(label = \"Glob. Lag. 18 chebinodes\")\n",
    "\n",
    "r = Plottable(runge, -5, 5)\n",
    "r.plot(step=5000, label=\"Actual Runge\")\n",
    "plt.title(\"Piecewise Lagrange with 3 nodes on n intervals\")\n",
    "plt.legend()\n",
    "plt.show()"
   ]
  },
  {
   "cell_type": "markdown",
   "metadata": {},
   "source": [
    "## Task iv\n",
    "----"
   ]
  },
  {
   "cell_type": "code",
   "execution_count": null,
   "metadata": {},
   "outputs": [],
   "source": [
    "ls = equiNode(0,1,1000,runge)\n",
    "h = OptLagrangePol(ls,equiX(0, 1, 10))\n",
    "plt.figure()\n",
    "plt.axes(xlabel = \"iterations\", ylabel = \"cost\")\n",
    "plt.plot(h.history)\n",
    "plt.show()"
   ]
  },
  {
   "cell_type": "code",
   "execution_count": null,
   "metadata": {},
   "outputs": [],
   "source": [
    "d = OptLagrangePolLeg(a, 0, 1)\n",
    "e = OptLagrangePol(a, 0, 1)\n",
    "q = ErrorLagrange(a, 0, 1)\n",
    "r = ErrorLagrange(a, 0, 1, v = \"Cheby\")\n",
    "plt.figure()\n",
    "plt.axes(xlabel = \"n - nodes\", ylabel = \"error\")\n",
    "d.plot()\n",
    "e.plot()\n",
    "q.plot2()\n",
    "r.plot2()\n",
    "plt.title(\"Lagrange Interpolation comparisons of different nodespread methods\")\n",
    "plt.show() "
   ]
  },
  {
   "cell_type": "markdown",
   "metadata": {},
   "source": [
    "## Task v\n",
    "----"
   ]
  },
  {
   "cell_type": "code",
   "execution_count": null,
   "metadata": {},
   "outputs": [],
   "source": [
    "plt.figure()\n",
    "u = ErrRBF(runge,-1,1,10)\n",
    "u.plot()\n",
    "plt.show()"
   ]
  }
 ],
 "metadata": {
  "kernelspec": {
   "display_name": "Python 3",
   "language": "python",
   "name": "python3"
  },
  "language_info": {
   "codemirror_mode": {
    "name": "ipython",
    "version": 3
   },
   "file_extension": ".py",
   "mimetype": "text/x-python",
   "name": "python",
   "nbconvert_exporter": "python",
   "pygments_lexer": "ipython3",
   "version": "3.7.0"
  }
 },
 "nbformat": 4,
 "nbformat_minor": 4
}