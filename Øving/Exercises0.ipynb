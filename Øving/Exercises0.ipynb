{
 "cells": [
  {
   "cell_type": "markdown",
   "metadata": {},
   "source": [
    "# Exercises - 0\n",
    "The following exercises are to assist in your understanding of the basic concepts in programming, and which concepts are important to this course.\n",
    "\n",
    "### Variable names and Comments - PEP8\n",
    "Good code consists of well named variable, and well explained code. If it's not obvious what a variable is, which can occur in mathematics when algorithms use the same variables as in papers, use a comment to explain what said variable is.\n",
    " Comments exist so other people, and yourself, can look at your code and understand what is happening. Every programmer at some point writes some code without comments. They then regret this decision when looking back in 3 weeks time, and curse their past selves. Be kind to future you, write good comments.\n",
    "\n",
    "Python has a style guide called PEP8, found at https://www.python.org/dev/peps/pep-0008/.\n",
    "These are guidelines and common practices. Every institution and project has its own guidelines. The most important rule is to make sure your code is readable, and consistent.\n",
    "I will quote a couple of lines though:\n",
    "- \"Comments that contradict the code are worse than no comments\"\n",
    "- \"Python coders from non-English speaking countries: please write your comments in English, unless you are 120% sure that the code will never be read by people who don't speak your language.\""
   ]
  },
  {
   "cell_type": "code",
   "execution_count": 45,
   "metadata": {},
   "outputs": [],
   "source": [
    "import matplotlib.pyplot as plt\n",
    "%matplotlib inline"
   ]
  },
  {
   "cell_type": "markdown",
   "metadata": {},
   "source": [
    "## 1 - Basics\n",
    "\n",
    "Here are a few basic exercises to begin. Some of them may be made easier by inbuilt functions in Python, Numpy, etc.\n",
    "\n",
    "Below you are given a list\n",
    "1. Iterate though this list and, in the following order:\n",
    "    - Remove any odd number greater than 5.\n",
    "    - Halve any even number"
   ]
  },
  {
   "cell_type": "code",
   "execution_count": 28,
   "metadata": {},
   "outputs": [
    {
     "name": "stdout",
     "output_type": "stream",
     "text": [
      "[6, 4, 1, 9, 3, 3, 6, 3, 10, 3, 3, 1, 10, 7]\n"
     ]
    }
   ],
   "source": [
    "A = [12, 8, 9, 2, 18, 3, 15, 19, 6, 12, 15, 3, 20, 3, 13, 6, 1, 20, 13, 14]\n",
    "\n",
    "#My code here\n",
    "A = filter(lambda x:(x<5 or x%2==0), A)\n",
    "A = map(lambda x: x//2 if (x%2==0) else x, A)\n",
    "print(list(A))"
   ]
  },
  {
   "cell_type": "markdown",
   "metadata": {},
   "source": [
    "2. Using numpy, create the following two matrices\n",
    "    $$ \n",
    "    A = \\begin{bmatrix}\n",
    "        6 & 4 & 2 & 0 & 4\\\\\n",
    "        6 & 1 & 3 & 9 & 0\\\\\n",
    "        2 & 1 & 8 & 6 & 7\\\\\n",
    "        5 & 6 & 1 & 8 & 0\\\\\n",
    "        1 & 7 & 7 & 9 & 0\\\\\n",
    "    \\end{bmatrix}\n",
    "    \\quad\n",
    "    b = \\begin{bmatrix}\n",
    "    9 \\\\ 6 \\\\ 4 \\\\ 6 \\\\ 5\n",
    "    \\end{bmatrix}\n",
    "    $$\n",
    "    \n",
    "    - What is the determinant of $A$?\n",
    "    - Find the product $Ab$."
   ]
  },
  {
   "cell_type": "code",
   "execution_count": 41,
   "metadata": {},
   "outputs": [
    {
     "name": "stdout",
     "output_type": "stream",
     "text": [
      "[[6 4 2 0 4]\n",
      " [6 1 3 9 0]\n",
      " [2 1 8 6 7]\n",
      " [5 6 1 8 0]\n",
      " [1 7 7 9 0]]\n",
      "\n",
      "\n",
      "[[9]\n",
      " [6]\n",
      " [4]\n",
      " [6]\n",
      " [5]]\n",
      "\n",
      "\n",
      "13900.000000000002\n",
      "\n",
      "\n",
      "[[16]\n",
      " [19]\n",
      " [24]\n",
      " [20]\n",
      " [24]]\n"
     ]
    }
   ],
   "source": [
    "import numpy as np\n",
    "\n",
    "A = np.array([[6, 4, 2, 0, 4],\n",
    "               [6, 1, 3, 9, 0],\n",
    "               [2, 1, 8, 6, 7],\n",
    "               [5, 6, 1, 8, 0],\n",
    "               [1, 7, 7, 9, 0]])\n",
    "\n",
    "b = np.array([9, 6, 4, 6, 5]).reshape(5,1)\n",
    "\n",
    "print(A)\n",
    "print('\\n')\n",
    "print(b)\n",
    "print('\\n')\n",
    "print(np.linalg.det(A))\n",
    "print('\\n')\n",
    "print(A.dot(b))"
   ]
  },
  {
   "cell_type": "markdown",
   "metadata": {},
   "source": [
    "3. Plot the following functions using [matplotlib](https://matplotlib.org/):\n",
    "    - $f(x) = \\exp(x\\% 4), \\quad\\ x\\in(1,10).$\n",
    "    - $g(x) = \\sin(x)$ and $h(x) = \\cos(x^2)$ on the same plot, for $x\\in(-\\pi, \\pi)$."
   ]
  },
  {
   "cell_type": "code",
   "execution_count": 53,
   "metadata": {},
   "outputs": [
    {
     "data": {
      "text/plain": [
       "[<matplotlib.lines.Line2D at 0x14266bb0>]"
      ]
     },
     "execution_count": 53,
     "metadata": {},
     "output_type": "execute_result"
    },
    {
     "data": {
      "image/png": "[encoded data removed]",
      "text/plain": [
       "<Figure size 432x288 with 1 Axes>"
      ]
     },
     "metadata": {
      "needs_background": "light"
     },
     "output_type": "display_data"
    }
   ],
   "source": [
    "# YOUR CODE - f\n",
    "ls = np.arange(1.0, 10.0, 0.01)\n",
    "f = lambda x: np.exp(x%4)\n",
    "plt.figure()\n",
    "plt.plot(ls, f(ls))"
   ]
  },
  {
   "cell_type": "code",
   "execution_count": 52,
   "metadata": {},
   "outputs": [
    {
     "data": {
      "text/plain": [
       "[<matplotlib.lines.Line2D at 0x14226570>]"
      ]
     },
     "execution_count": 52,
     "metadata": {},
     "output_type": "execute_result"
    },
    {
     "data": {
      "image/png": "[encoded data removed]",
      "text/plain": [
       "<Figure size 432x288 with 1 Axes>"
      ]
     },
     "metadata": {
      "needs_background": "light"
     },
     "output_type": "display_data"
    }
   ],
   "source": [
    "# YOUR CODE - g\n",
    "ls = np.arange(-1*np.pi, np.pi, 0.01)\n",
    "g = lambda x: np.sin(x)\n",
    "h = lambda x: np.cos(x*x)\n",
    "plt.figure()\n",
    "plt.plot(ls, g(ls), 'g')\n",
    "plt.plot(ls, h(ls), 'c')"
   ]
  },
  {
   "cell_type": "markdown",
   "metadata": {},
   "source": [
    "## 2 - Root Finding\n",
    "Below you will find a broken implementation of the [Secant method](https://en.wikipedia.org/wiki/Secant_method), whose purpose is to find the roots of a given function. You may have already encountered [Newton's method](https://en.wikipedia.org/wiki/Newton%27s_method) for finding roots, an iterative method given by\n",
    "    $$ x_{n+1} = x_n + \\frac{f(x_n)}{f'(x_n)}. $$\n",
    "This method can be found by replacing the derivative $f'(x_n)$, by it s finite difference. You will encounter finite differences later in the course. See also exercise 4 for the approximation of $f’(x)$ with a finite difference approximation.\n",
    "\n",
    "Here, we note a few things.\n",
    "\n",
    "- This is a great example of why functions are useful. When you want to find the roots of a polynomial using this method, if you didn't use a function you would have to rewrite this code, taking time and making the code less readable.\n",
    "- The function below starts with a doc string. Always include a comment at the start of the function explaining what it does. You don't need to go in this much detail (I often don't) unless you intend to release the code publicly.\n"
   ]
  },
  {
   "cell_type": "code",
   "execution_count": 77,
   "metadata": {},
   "outputs": [],
   "source": [
    "def secantMethod(f, x0, x1, maxIter=100, E=0.001):\n",
    "    \"\"\"\n",
    "    Implemention of the Secant root finding method.\n",
    "\n",
    "    --Parameters--\n",
    "    f: Function\n",
    "        Floats as input and output\n",
    "    x0, x1: Floats\n",
    "        Initial guesses\n",
    "    maxIterations: Int\n",
    "        Positive integer, max number of iterations for algorithm\n",
    "    E: Float\n",
    "        Convergence factor\n",
    "\n",
    "    --Returns--\n",
    "    float, approximation to root should the method converge\n",
    "    \"\"\"\n",
    "    while maxIter>=0 and np.abs(x0 - x1) > E:\n",
    "        x0, x1 = x1, x1 - f(x1) * (x1 - x0)/(f(x1) - f(x0))\n",
    "        maxIter -= 1\n",
    "        \n",
    "    return x1"
   ]
  },
  {
   "cell_type": "markdown",
   "metadata": {},
   "source": [
    "### Exercises\n",
    "Consider the following functions\n",
    "    $$f(t) = -6 + 11 t - 6 t^2 + t^3$$\n",
    "    $$g(t)= t^2 + \\exp(t) + \\sin(t^3) -3$$\n",
    "    \n",
    "1. Debug the above code. There are 2 errors.\n",
    "2. Using [matplotlib](https://matplotlib.org/), which has been imported for you below, plot the graphs of these two functions.\n",
    "3. Use the secant method to find some roots of these two functions.\n",
    "4. Alter the function above so it also returns the number of iterations in a tuple (root, iterations). How many iterations did it take to converge to a solution given your inputs?\n",
    "5. Implement the secant method recursively, i.e. by calling itself within itself. Compare your results to the given implementation to ensure your implementation is working."
   ]
  },
  {
   "cell_type": "code",
   "execution_count": 96,
   "metadata": {},
   "outputs": [
    {
     "name": "stdout",
     "output_type": "stream",
     "text": [
      "\n",
      "approximate zeros: 3.0, 1.0, 2.0000000025121114\n"
     ]
    },
    {
     "data": {
      "image/png": "[encoded data removed]",
      "text/plain": [
       "<Figure size 432x288 with 1 Axes>"
      ]
     },
     "metadata": {
      "needs_background": "light"
     },
     "output_type": "display_data"
    }
   ],
   "source": [
    "# YOUR CODE - f\n",
    "f = lambda x: -6+11*x-6*x*x+x*x*x\n",
    "aprf1 = secantMethod(f, 3, 4)\n",
    "aprf2 = secantMethod(f, 0, 1)\n",
    "aprf3 = secantMethod(f, 1.8, 1.9)\n",
    "\n",
    "ls = lambda s,e: np.arange(s, e, (e-s)/1000)\n",
    "i = ls(0,4)\n",
    "\n",
    "plt.figure()\n",
    "plt.plot(i, f(i), 'r')\n",
    "plt.plot(i, list(map(lambda x: 0, i)), '--k')\n",
    "plt.plot([aprf1, aprf2, aprf3], np.zeros(3), 'ok', )\n",
    "\n",
    "print('\\n' + 'approximate zeros: '+ str(aprf1) + ', ' + str(aprf2) + ', ' + str(aprf3))"
   ]
  },
  {
   "cell_type": "code",
   "execution_count": 104,
   "metadata": {},
   "outputs": [
    {
     "name": "stdout",
     "output_type": "stream",
     "text": [
      "\n",
      "approximate zeros: 0.7325359715644414, -1.5318111862229107\n"
     ]
    },
    {
     "data": {
      "image/png": "[encoded data removed]",
      "text/plain": [
       "<Figure size 432x288 with 1 Axes>"
      ]
     },
     "metadata": {
      "needs_background": "light"
     },
     "output_type": "display_data"
    }
   ],
   "source": [
    "# YOUR CODE - g\n",
    "g = lambda x: x*x+np.exp(x)+np.sin(x*x*x)-3\n",
    "aprg1 = secantMethod(g, 0, 1)\n",
    "aprg2 = secantMethod(g, 0, -1.8)\n",
    "\n",
    "j = ls(-5, 5)\n",
    "\n",
    "plt.figure()\n",
    "plt.plot(j, g(j), 'r')\n",
    "plt.plot(j, list(map(lambda x: 0, j)), '--k')\n",
    "plt.plot([aprg1, aprg2], np.zeros(2), 'ok', )\n",
    "\n",
    "print('\\n' + 'approximate zeros: ' + str(aprg1) + ', ' + str(aprg2))"
   ]
  },
  {
   "cell_type": "code",
   "execution_count": null,
   "metadata": {},
   "outputs": [],
   "source": [
    "# YOUR CODE - Recursive Implementation\n"
   ]
  },
  {
   "cell_type": "markdown",
   "metadata": {},
   "source": [
    "## 3 - Numerical Solution to an ODE - Explicit Euler Method\n",
    "Consider and ODE of the form\n",
    "    $$ y'(x) = f(y(x)), \\quad\\ y(x_0) = y_0 $$\n",
    "on the domain $[a,b]$.\n",
    "\n",
    "To solve this numerically, we discretize the domain into $N+1$ equidistant points $x_0,...,x_N$ with $x_0, x_N = a,b$, then apply the following iterative relation\n",
    "$$y_{n+1} = y_n + hf(y_n),$$\n",
    "with $h=\\frac{b-a}{N}$, and $y_0$ given above. This gives a set of points $y_0,...,y_N$ which are the numerical approximations to the solutions at $x_0,...,x_N$.\n",
    "\n",
    "### Exercises\n",
    "1. Implement this method, and apply it to the following two ODEs on the domain $[0,1]$ for $N = 10, 100, 1000$\n",
    "    - $y'(x) = 4y(x),\\quad\\ y(0)=1$,\n",
    "    - $y'(x) = y(x)\\ln y(x),\\quad\\ y(0)=e$.\n",
    "2. For each of these problems:\n",
    "    - Plot the three solutions you obtained from the method on the same plot, as well as the actual solution."
   ]
  },
  {
   "cell_type": "code",
   "execution_count": null,
   "metadata": {},
   "outputs": [],
   "source": [
    "# YOUR CODE - Your implementation\n"
   ]
  },
  {
   "cell_type": "code",
   "execution_count": 7,
   "metadata": {},
   "outputs": [],
   "source": [
    "# YOUR CODE - ODE1\n"
   ]
  },
  {
   "cell_type": "code",
   "execution_count": null,
   "metadata": {},
   "outputs": [],
   "source": [
    "# YOUR CODE - ODE2\n"
   ]
  },
  {
   "cell_type": "markdown",
   "metadata": {},
   "source": [
    "## 4 - Propagation of rounding errors\n",
    "The following exercise illustrates the effects of propagation of rounding errors in a numerical algorithm.\n",
    "\n",
    " \n",
    "We want to make a simple programme to approximate the derivative of a differentiable function $f:\\mathbb{R} \\rightarrow \\mathbb{R}$ and we use the simple approximation\n",
    "$$f'(x)=\\frac{f(x+\\Delta x)-f(x)}{\\Delta x}+\\mathcal{O}(\\Delta x),\\qquad f'(x)\\approx \\frac{f(x+\\Delta x)-f(x)}{\\Delta x}.$$\n",
    "Use Taylor expansion to prove that the error given by this approximation is indeed $\\mathcal{O}(\\Delta x)$. "
   ]
  },
  {
   "cell_type": "markdown",
   "metadata": {},
   "source": [
    "*Write your answer here ...*"
   ]
  },
  {
   "cell_type": "markdown",
   "metadata": {},
   "source": [
    "Take now $f(x)=\\exp(x)$, and use the formula to approximate \n",
    "$$\\left.\\frac{d}{dx}\\exp (x)\\right|_{x=\\frac{\\pi}{4}}.$$\n",
    "Compute the absolute error committed by the approximation for decreasing values of $\\Delta x$, e.g $\\Delta x=\\frac{1}{2^k}$ for $k=1,2,\\dots , N$, and try values of $N$ between $30$ and $40$.\n",
    "Plot the results (values of $\\Delta x$ versus the corresponding absolute error) in a logarithmic scale."
   ]
  },
  {
   "cell_type": "code",
   "execution_count": null,
   "metadata": {},
   "outputs": [],
   "source": [
    "import numpy as np\n",
    "import matplotlib.pyplot as plt\n",
    "\n",
    "# Define N first for example N=35\n",
    "N=35\n",
    "err=np.zeros((1,N))\n",
    "hh=np.zeros((1,N))\n",
    "\n",
    "\n",
    "#Write your code here. Store the values of h in hh. Store the values of the error in err.\n",
    "#Make an appropriate for loop and use the function np.exp(x)\n",
    "\n",
    "\n",
    "\n",
    "\n",
    "#Plot the result in a logarithmic scale\n",
    "#plt.loglog(hh[0,:],err[0,:])"
   ]
  },
  {
   "cell_type": "markdown",
   "metadata": {},
   "source": [
    "Use now the Python module **decimal** (https://docs.python.org/2/library/decimal.html) to work with a prescribed precision in the floating-point representation of real numbers and in the floating point arithmetic in your code. For a precision of $p=7$ digits you should see the accumulation of rounding errors already for $N=12$. \n",
    "\n",
    "Choose $N=35$, how large should the precision $p$ be in order to remove the effects of accumulation of rounding errors from your plot? "
   ]
  },
  {
   "cell_type": "code",
   "execution_count": null,
   "metadata": {},
   "outputs": [],
   "source": [
    "import numpy as np\n",
    "import matplotlib.pyplot as plt\n",
    "#The following command allows you to use decimal\n",
    "from decimal import *\n",
    "# Decide your precision, for example p=7 (law) or p=16 (high), with the following command:\n",
    "getcontext().prec=7\n",
    "\n",
    "N=12\n",
    "err=np.zeros((1,N))\n",
    "hh=np.zeros((1,N))\n",
    "\n",
    "#To compute at a prescribed precision you should define your floating point numbers using Decimal. \n",
    "#Here is an example of how you use Decimal for obtaining the floating-point representation of $\\sqrt{2}$ at the prescribed precision.\n",
    "sr2=Decimal(2).sqrt()\n",
    "print(sr2)\n",
    "\n",
    "#Use here your code now redefining all floating point numbers incurring in the calculations using Decimal as shown above for the folating-point representation of $\\sqrt{2}$.\n",
    "#Replace the function np.exp(x) with Decimal(x).exp()\n",
    "\n",
    "\n",
    "#Finally, plot the results as before, you should be able to get rid of the accumulation of rounding error as long as you use enough digits of precision.\n",
    "#plt.loglog(hh[0,:],err[0,:])\n",
    "\n"
   ]
  }
 ],
 "metadata": {
  "kernelspec": {
   "display_name": "Python 3",
   "language": "python",
   "name": "python3"
  },
  "language_info": {
   "codemirror_mode": {
    "name": "ipython",
    "version": 3
   },
   "file_extension": ".py",
   "mimetype": "text/x-python",
   "name": "python",
   "nbconvert_exporter": "python",
   "pygments_lexer": "ipython3",
   "version": "3.7.0"
  }
 },
 "nbformat": 4,
 "nbformat_minor": 2
}
