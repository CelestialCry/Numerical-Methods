{
 "cells": [
  {
   "cell_type": "markdown",
   "metadata": {},
   "source": [
    "# Assignment 1 - Part 2\n",
    "\n",
    "<div class=\"alert alert-block alert-warning\">\n",
    "    Below we import <a href=\"https://github.com/HIPS/autograd\">autograd</a>. If you get an error saying you don't have it, you will need to install it with pip, using\n",
    "<pre>\n",
    "pip install autograd\n",
    "</pre>\n",
    "</div>"
   ]
  },
  {
   "cell_type": "code",
   "execution_count": 2,
   "metadata": {},
   "outputs": [],
   "source": [
    "# I'm using PTable for making tables, so be sure to run this cell to check if you have PTable\n",
    "\n",
    "import os\n",
    "\n",
    "def import_or_install(name):\n",
    "    try:\n",
    "        __import__(name)\n",
    "    except ImportError:\n",
    "        os.system('pip install ' + name)\n",
    "\n",
    "import_or_install(\"PTable\")\n",
    "\n",
    "from prettytable import PrettyTable"
   ]
  },
  {
   "cell_type": "code",
   "execution_count": 3,
   "metadata": {},
   "outputs": [],
   "source": [
    "import  autograd.numpy as np\n",
    "import matplotlib.pyplot as plt\n",
    "from autograd import jacobian, grad"
   ]
  },
  {
   "cell_type": "markdown",
   "metadata": {},
   "source": [
    "## Newton's Method\n",
    "\n",
    "We want to approximate solutions of nonlinear equation in __two variables__ using Newton's method.\n",
    "\n",
    "Newton's method is implemented below.\n",
    "\n",
    "Implement a stopping criterion. That is, given some tolerance $TOL$, end the method when $\\mathbf{x}^k:=(x_1^k,x_2^k)$ satisfies $\\|F(\\mathbf{x}^k)\\|_2\\le TOL$ or $\\|\\mathbf{x}^{k+1}-\\mathbf{x}^k\\|_2\\le TOL$.\n",
    "\n",
    "Provide numerical evidence that your code works as it should by printing the values of $\\|F(\\mathbf{x}^k)\\|_2$ for each iteration, and by making a plot of $\\|F(\\mathbf{x}^k)\\|_2$, $\\|\\mathbf{x}^{k+1}-\\mathbf{x}^k\\|_2$, for all $k$.\n",
    "\n",
    "Now, verify numerically the convergence is quadratic. You will need a reference solution, and one can do this in two ways:\n",
    "\n",
    " - Consider a problem for which you know an exact solution, and use said solution as a reference solution,\n",
    " - or for your problem, should you not know a solution, use the method to obtain an extremely accurate result which you use as a reference solution"
   ]
  },
  {
   "cell_type": "code",
   "execution_count": 4,
   "metadata": {},
   "outputs": [],
   "source": [
    "def ooc(S):\n",
    "    \"\"\"\n",
    "    Calculation of the order of a convergence of a convergent series.\n",
    "\n",
    "    --Parameters--\n",
    "    S: A list of NumPy-arrays\n",
    "        The input list needs to have at least four elements for the method to succeed.\n",
    "    \n",
    "    --Returns--\n",
    "    A float as the order of convergence of the series, or 0 if the function fails.\n",
    "    \"\"\"\n",
    "    if (np.log(S[-2]/S[-3]) == 0) or (S[-2] == 0) or (S[-3] == 0):\n",
    "        return 0\n",
    "    if len(S) >= 3:\n",
    "        return np.log(S[-1]/S[-2])/np.log(S[-2]/S[-3])\n",
    "    return 0"
   ]
  },
  {
   "cell_type": "code",
   "execution_count": 5,
   "metadata": {},
   "outputs": [],
   "source": [
    "def roc(S, q):\n",
    "    \"\"\"\n",
    "    Finding a bound of the convergent error series\n",
    "\n",
    "    --Parameters--\n",
    "    S: A sequence\n",
    "\n",
    "    --Side-effect--\n",
    "    Shows a plot of this thing\n",
    "    \"\"\"\n",
    "    ls = [S[i+1]/(S[i]**q) for i in range(len(S)-1)]\n",
    "    print(\"Evolution of rate of convergence:\")\n",
    "    plt.figure()\n",
    "    plt.plot(ls)\n",
    "    plt.show()\n",
    "    print(\"\\n\")\n",
    "\n",
    "    return max(ls)"
   ]
  },
  {
   "cell_type": "code",
   "execution_count": 6,
   "metadata": {},
   "outputs": [],
   "source": [
    "def newtonsMethod(F, x0, maxIter=100, TOL=1.0e-1000):\n",
    "    \"\"\"\n",
    "    Implementation of Newton's root finding method.\n",
    "    \n",
    "    --Parameters--\n",
    "    F: Function\n",
    "        Numpy array of shape (2,) as input and output.\n",
    "        This is the function we wish to find the root for\n",
    "    x0: Numpy array of shape (2,).\n",
    "        This is the initial guess for the method.\n",
    "    maxIter: Integer\n",
    "        The maximum number of iterations to do.\n",
    "    TOL: Float\n",
    "        The level of tolerance for when to stop the search\n",
    "    \"\"\"\n",
    "    DF = jacobian(F) # Calculate the jacobian matrix of our function\n",
    "    \n",
    "    # Initialize variables before the for-loop \n",
    "    x1 = x0\n",
    "    A, I, D, S = [], [], [], []\n",
    "    \n",
    "    for k in range(0, maxIter):\n",
    "        x0 = x1\n",
    "        J = DF(x0)\n",
    "        Fx = F(x0)\n",
    "        x1 = x0 - np.linalg.solve(J,Fx)\n",
    "        A.append(x1) # Adding each iteration to A\n",
    "        I.append(np.linalg.norm(Fx,2)) # Adding the norm of Fx to I\n",
    "        D.append(np.linalg.norm(x1-x0,2)) # Adding the difference to D\n",
    "        if ((D[-1]<=TOL) or (I[-1]<=TOL)) and (k > 3): break\n",
    "\n",
    "    # Creating the error series\n",
    "    for i in range(len(A)-1):\n",
    "        S.append(np.linalg.norm(A[i]-A[-1])) # Adding the error to S\n",
    "\n",
    "    print(\"Evolution of ||F(x)||:\")\n",
    "    plt.figure()\n",
    "    plt.semilogy(I)\n",
    "    plt.show()\n",
    "    print(\"\\n\")\n",
    "\n",
    "    print(\"Evolution of ||x1-x0||:\")\n",
    "    plt.figure()\n",
    "    plt.semilogy(D)\n",
    "    plt.show()\n",
    "    print(\"\\n\")\n",
    "\n",
    "    print(\"Evolution of error:\")\n",
    "    plt.figure()\n",
    "    plt.plot(S)\n",
    "    plt.show()\n",
    "    print(\"\\n\")\n",
    "\n",
    "    print(f\"Rate of convergence:\\nM >= {roc(S, 2)}\\n\")\n",
    "    \n",
    "    print(f\"Order of convergence:\\n{ooc(S)}\\n\")\n",
    "\n",
    "    return x1"
   ]
  },
  {
   "cell_type": "code",
   "execution_count": 7,
   "metadata": {},
   "outputs": [
    {
     "name": "stdout",
     "output_type": "stream",
     "text": [
      "Evolution of ||F(x)||:\n"
     ]
    },
    {
     "data": {
      "image/png": "[encoded data removed]",
      "text/plain": [
       "<Figure size 432x288 with 1 Axes>"
      ]
     },
     "metadata": {
      "needs_background": "light"
     },
     "output_type": "display_data"
    },
    {
     "name": "stdout",
     "output_type": "stream",
     "text": [
      "\n",
      "\n",
      "Evolution of ||x1-x0||:\n"
     ]
    },
    {
     "data": {
      "image/png": "[encoded data removed]",
      "text/plain": [
       "<Figure size 432x288 with 1 Axes>"
      ]
     },
     "metadata": {
      "needs_background": "light"
     },
     "output_type": "display_data"
    },
    {
     "name": "stdout",
     "output_type": "stream",
     "text": [
      "\n",
      "\n",
      "Evolution of error:\n"
     ]
    },
    {
     "data": {
      "image/png": "[encoded data removed]",
      "text/plain": [
       "<Figure size 432x288 with 1 Axes>"
      ]
     },
     "metadata": {
      "needs_background": "light"
     },
     "output_type": "display_data"
    },
    {
     "name": "stdout",
     "output_type": "stream",
     "text": [
      "\n",
      "\n",
      "Evolution of rate of convergence:\n"
     ]
    },
    {
     "data": {
      "image/png": "[encoded data removed]",
      "text/plain": [
       "<Figure size 432x288 with 1 Axes>"
      ]
     },
     "metadata": {
      "needs_background": "light"
     },
     "output_type": "display_data"
    },
    {
     "name": "stdout",
     "output_type": "stream",
     "text": [
      "\n",
      "\n",
      "Rate of convergence:\n",
      "M >= 1.4085006669202548e+29\n",
      "\n",
      "Order of convergence:\n",
      "1.2966069431192224\n",
      "\n",
      "Zero:\n",
      "[7.88860905e-31 0.00000000e+00]\n"
     ]
    }
   ],
   "source": [
    "# Test suite 1\n",
    "f = lambda v: np.array([v[0]**2,v[1]])\n",
    "print(f\"Zero:\\n{newtonsMethod(f, np.array([1.,2.]))}\")\n",
    "\n",
    "# I was unable to find an upper bound for the rate of convergence, but if I set the order to equal to the calculated order, I will get an upper bound for this function.\n",
    "# This doesn't proboably work, as my answer isn't correct enough to get a good enough error estimate.\n",
    "# Either way we can observe that the convergence is superlinear"
   ]
  },
  {
   "cell_type": "code",
   "execution_count": 8,
   "metadata": {},
   "outputs": [
    {
     "name": "stdout",
     "output_type": "stream",
     "text": [
      "Evolution of ||F(x)||:\n"
     ]
    },
    {
     "data": {
      "image/png": "[encoded data removed]",
      "text/plain": [
       "<Figure size 432x288 with 1 Axes>"
      ]
     },
     "metadata": {
      "needs_background": "light"
     },
     "output_type": "display_data"
    },
    {
     "name": "stdout",
     "output_type": "stream",
     "text": [
      "\n",
      "\n",
      "Evolution of ||x1-x0||:\n"
     ]
    },
    {
     "data": {
      "image/png": "[encoded data removed]",
      "text/plain": [
       "<Figure size 432x288 with 1 Axes>"
      ]
     },
     "metadata": {
      "needs_background": "light"
     },
     "output_type": "display_data"
    },
    {
     "name": "stdout",
     "output_type": "stream",
     "text": [
      "\n",
      "\n",
      "Evolution of error:\n"
     ]
    },
    {
     "data": {
      "image/png": "[encoded data removed]",
      "text/plain": [
       "<Figure size 432x288 with 1 Axes>"
      ]
     },
     "metadata": {
      "needs_background": "light"
     },
     "output_type": "display_data"
    },
    {
     "name": "stdout",
     "output_type": "stream",
     "text": [
      "\n",
      "\n",
      "Evolution of rate of convergence:\n"
     ]
    },
    {
     "data": {
      "image/png": "[encoded data removed]",
      "text/plain": [
       "<Figure size 432x288 with 1 Axes>"
      ]
     },
     "metadata": {
      "needs_background": "light"
     },
     "output_type": "display_data"
    },
    {
     "name": "stdout",
     "output_type": "stream",
     "text": [
      "\n",
      "\n",
      "Rate of convergence:\n",
      "M >= 17.98971967498433\n",
      "\n",
      "Order of convergence:\n",
      "inf\n",
      "\n",
      "Zero:\n",
      "[-1.15996226  1.        ]\n"
     ]
    },
    {
     "name": "stderr",
     "output_type": "stream",
     "text": [
      "C:\\Python38\\lib\\site-packages\\autograd\\tracer.py:48: RuntimeWarning: divide by zero encountered in log\n",
      "  return f_raw(*args, **kwargs)\n"
     ]
    }
   ],
   "source": [
    "# Test suite 2\n",
    "g = lambda v: np.array([v[1]**3+v[0]**5+1.1,v[1]**2-1])\n",
    "print(f\"Zero:\\n{newtonsMethod(g,np.array([1.,2.]))}\")\n",
    "# Here we can see that the calculated bound is bounded, therefore we have quadratic convergence. The calculation of the order failed though..."
   ]
  },
  {
   "cell_type": "markdown",
   "metadata": {},
   "source": [
    "## Linear systems\n",
    "\n",
    "Consider the linear system \n",
    "\t\\begin{equation*}\n",
    "\tA \\mathbf{u} = \\mathbf{f},\n",
    "\t\\end{equation*}\n",
    "where $A$ is a finite-difference discretization of the 2D Laplacian, this is a block tridiagonal matrix, implemented in the code below, and $\\mathbf{f}$ is the vector with all components equal to one."
   ]
  },
  {
   "cell_type": "code",
   "execution_count": 9,
   "metadata": {},
   "outputs": [
    {
     "name": "stdout",
     "output_type": "stream",
     "text": [
      "[[-4.  1.  0.  1.  0.  0.  0.  0.  0.]\n",
      " [ 1. -4.  1.  0.  1.  0.  0.  0.  0.]\n",
      " [ 0.  1. -4.  1.  0.  1.  0.  0.  0.]\n",
      " [ 1.  0.  1. -4.  0.  0.  1.  0.  0.]\n",
      " [ 0.  1.  0.  0. -4.  1.  0.  1.  0.]\n",
      " [ 0.  0.  1.  0.  1. -4.  1.  0.  1.]\n",
      " [ 0.  0.  0.  1.  0.  1. -4.  1.  0.]\n",
      " [ 0.  0.  0.  0.  1.  0.  1. -4.  0.]\n",
      " [ 0.  0.  0.  0.  0.  1.  0.  0. -4.]]\n"
     ]
    }
   ],
   "source": [
    "import numpy as np\n",
    "import matplotlib.pyplot as plt\n",
    "from scipy import sparse\n",
    "from scipy import linalg\n",
    "import time\n",
    "\n",
    "# Creating the 2D laplacian matrix\n",
    "def create2DLaplacian(nx, ny):\n",
    "    N  = nx*ny\n",
    "    main_diag = np.ones(N)*-4.0\n",
    "    side_diag = np.ones(N-1)\n",
    "    side_diag[np.arange(1,N)%4==0] = 0\n",
    "    up_down_diag = np.ones(N-3)\n",
    "    diagonals = [main_diag,side_diag,side_diag,up_down_diag,up_down_diag]\n",
    "    laplacian = sparse.diags(diagonals, [0, -1, 1,nx,-nx])\n",
    "    return laplacian*np.eye(N)\n",
    "\n",
    "# Dummy matrix\n",
    "test = create2DLaplacian(3,3)\n",
    "print(test)"
   ]
  },
  {
   "cell_type": "markdown",
   "metadata": {},
   "source": [
    "We will now approximate the solution of this linear system using some different iteration methods of the type \n",
    "\t\\begin{equation*}\n",
    "\t\tA_1 \\mathbf{u}^{(k+1)} = A_2 \\mathbf{u}^{(k)}+\\mathbf{f},\n",
    "\t\\end{equation*}\n",
    "\twhere $A = A_1 - A_2$ with $|A_1|\\ne0$. The way we choose the matrices $A_1$ and $A_2$ depends upon the method. We will use the following iterative methods to calculate approximate solutions to $\\mathbf{u}$:\n",
    "\n",
    "a) Jacobi ($A_1 = A_d$).\n",
    "\n",
    "b) Forward Gauss-Seidel ($A_1 = A_d-A_l$).\n",
    "\n",
    "c) Successive over relaxation ($A_1 = A_d-\\omega A_l$, where you can choose the value of $\\omega\\in (0,1)$).\n",
    "\n",
    "Here $A = A_d - A_l - A_u$, where\n",
    "\n",
    "- $A_d$ is the diagonal of $A$,\n",
    "- $A_l$ is $-$(strictly lower triangular part of $A$),\n",
    "- $A_u$ is $-$(strictly upper triangular part of $A$).\n",
    "\n",
    "Consider the residual vector $\\mathbf{r}^k:=\\mathbf{f}-A\\mathbf{u}^k$. We fix $nx=ny=10$ and $N=100$. For each of the above, you should:\n",
    "\n",
    "i) Compare the convergence of each method. Submit  a semi-log plot of the $2$-norm of the relative residual $\\frac{ \\|\\mathbf{r}^k\\|_2 }{ \\| \\mathbf{r}^0\\|_2 }$ versus the number of iterations. Plot all the methods in the same plot for comparison.\n",
    "Experiment choosing different values of $\\omega$ in the SOR method, try to find a value that gives you optimal convergence for this problem.\n"
   ]
  },
  {
   "cell_type": "markdown",
   "metadata": {},
   "source": [
    "ii) Implement a stopping criterion for the three methods as you have done for the Newton method. Record the relative time each method takes per iteration, and the rime needed to obtain a norm of the relative residual below toleances  $TOL=1e-7$ and $TOL=1e-14$. Make a table with the results for each method."
   ]
  },
  {
   "cell_type": "markdown",
   "metadata": {},
   "source": [
    "iii) Calculate the spectral radius of $A_1^{-1}A_2$ and see how that relates to convergence of the method. Make a semi-log plot for comparison. \n",
    "\n",
    "<div class=\"alert alert-block alert-info\">\n",
    "<b>Hint:</b> Python's \n",
    "    <pre>numpy.linalg.eigvals(A)</pre>\n",
    "function returns the eigenvalues of $A$.\n",
    "</div>"
   ]
  },
  {
   "cell_type": "markdown",
   "metadata": {},
   "source": [
    "Note from student:\n",
    "I realized after creating all of the different methods, that they are all special cases of the last method..."
   ]
  },
  {
   "cell_type": "code",
   "execution_count": 10,
   "metadata": {},
   "outputs": [
    {
     "name": "stdout",
     "output_type": "stream",
     "text": [
      "[[-4.  1.  0. ...  0.  0.  0.]\n",
      " [ 1. -4.  1. ...  0.  0.  0.]\n",
      " [ 0.  1. -4. ...  0.  0.  0.]\n",
      " ...\n",
      " [ 0.  0.  0. ... -4.  1.  0.]\n",
      " [ 0.  0.  0. ...  1. -4.  1.]\n",
      " [ 0.  0.  0. ...  0.  1. -4.]]\n"
     ]
    }
   ],
   "source": [
    "# The way I have solved these tasks is that I have implemented the functions to solve them beforehand, and then used the apropriate functions to solve the given task.\n",
    "# This is the matrix to use for the final tests\n",
    "toRun = create2DLaplacian(10,10)\n",
    "print(toRun)"
   ]
  },
  {
   "cell_type": "code",
   "execution_count": 11,
   "metadata": {},
   "outputs": [],
   "source": [
    "# I hope the names of these functions are self-explanatory\n",
    "\n",
    "def extractDiagonal(A):\n",
    "    return np.diag(np.diag(A))\n",
    "\n",
    "def extractLower(A):\n",
    "    return -1*sparse.tril(A,-1)*np.identity(A.shape[0])\n",
    "\n",
    "def extractUpper(A):\n",
    "    return -1*sparse.triu(A,1)*np.identity(A.shape[0])\n",
    "\n",
    "def getSpectralRadius(A):\n",
    "    return np.linalg.norm(np.linalg.eigvals(A), np.inf)"
   ]
  },
  {
   "cell_type": "code",
   "execution_count": 12,
   "metadata": {},
   "outputs": [],
   "source": [
    "def generalIteration(A, B, C, f, u0, maxIter, TOL):\n",
    "    \"\"\"\n",
    "    The method of iteration used for the following problems\n",
    "\n",
    "    --Parameters--\n",
    "    A: NumPy Matrix\n",
    "        This is the matrix denoted A\n",
    "    B: NumPy Matrix\n",
    "        This is the matrix denoted A1 inverse\n",
    "    C: NumPy Matrix\n",
    "        This is the matrix denoted A2\n",
    "    f: NumPy Array\n",
    "        f as the f from the problem\n",
    "    u0: NumPy Array\n",
    "        Initial guess\n",
    "    maxIter: Integer\n",
    "        The maximal iteration depth\n",
    "    TOL: Float\n",
    "        The level of tolerance between our approximation and the real solution\n",
    "\n",
    "    --Returns--\n",
    "    Returns a tuple of three things:\n",
    "        1. The sequence created by the iteration\n",
    "        2. The sequence of residues\n",
    "        3. A list of time spent per iteration\n",
    "    \"\"\"\n",
    "    # Setting up variables before loop\n",
    "    u1 = u0\n",
    "    Iter = [u0]\n",
    "    TimeIter = []\n",
    "\n",
    "    totNow = time.time() # Start \"total\" stopwatch \n",
    "    for i in range(maxIter):\n",
    "        now = time.time() # Start \"relative\" stopwatch\n",
    "        u0 = u1\n",
    "        u1 = B @ (C @ u0 + f) # Calculate next element of sequence\n",
    "        Iter.append(u1)\n",
    "        if (np.linalg.norm(A@u1-f) <= TOL) or (np.linalg.norm(u1-u0) <= TOL) : \n",
    "            then = time.time() # End \"relative\" stopwatch\n",
    "            TimeIter.append(then-now) # Add time taken to list\n",
    "            break\n",
    "        then = time.time() # End \"relative\" stopwatch\n",
    "        TimeIter.append(then-now) # Add time taken to list\n",
    "    totThen = time.time() # End \"global\" stopwatch\n",
    "\n",
    "    return Iter, list(map(lambda x: f - A@x, Iter)), TimeIter, totThen - totNow"
   ]
  },
  {
   "cell_type": "code",
   "execution_count": 13,
   "metadata": {},
   "outputs": [],
   "source": [
    "def jacobiMeth(A, f, u0, maxIter = 50, TOL = 1e-10, *args):\n",
    "    \"\"\"\n",
    "    Implementation of Jacobis Method\n",
    "\n",
    "    --Parameters--\n",
    "    A: NumPy Matrix\n",
    "        The A matrix from the problem\n",
    "    f: NumPy Array\n",
    "        The f vector from the problem\n",
    "    u0: NumPy Array\n",
    "        Initial guess\n",
    "    maxIter: Integer\n",
    "        Maximal iteration depth\n",
    "    TOL: Float\n",
    "        Level of Tolerance\n",
    "    *args: A hack\n",
    "        Has no purpose in this function, only to make another function function\n",
    "\n",
    "    --Returns--\n",
    "    Returns the arguments from the generalIteration function\n",
    "    \"\"\"\n",
    "    # Initializing problem\n",
    "    inv = lambda x: 1/x \n",
    "    A1Inv = np.diag(inv(np.diag(A))) # Since I know that A1 is diagonal, the inverse is quite easy to calculate\n",
    "    A2 = extractDiagonal(A) - A\n",
    "\n",
    "    specRad = getSpectralRadius(A1Inv@A2)\n",
    "    out, res, relTimeIt, totTimeIt = generalIteration(A, A1Inv, A2, f, u0, maxIter, TOL)\n",
    "\n",
    "    return out, res, relTimeIt, totTimeIt, specRad"
   ]
  },
  {
   "cell_type": "code",
   "execution_count": 14,
   "metadata": {},
   "outputs": [],
   "source": [
    "def ForwardGSMeth(A, f, u0, maxIter = 50, TOL = 1e-10, *args):\n",
    "    \"\"\"\n",
    "    Implementation of Forward Gauss-Seidel Method\n",
    "\n",
    "    --Parameters--\n",
    "    A: NumPy Matrix\n",
    "        The A matrix from the problem\n",
    "    f: NumPy Array\n",
    "        The f vector from the problem\n",
    "    u0: NumPy Array\n",
    "        Initial guess\n",
    "    maxIter: Integer\n",
    "        Maximal iteration depth\n",
    "    TOL: Float\n",
    "        Level of Tolerance\n",
    "    *args: A hack\n",
    "        Has no purpose in this function, only to make another function function\n",
    "\n",
    "    --Returns--\n",
    "    Returns the arguments from the generalIteration function\n",
    "    \"\"\"\n",
    "    # Initialize problem\n",
    "    A1Inv = np.linalg.inv(extractDiagonal(A) - extractLower(A))\n",
    "    A2 = extractUpper(A)\n",
    "\n",
    "    specRad = getSpectralRadius(A1Inv @ A2)\n",
    "    out, res, relTimeIt, totTimeIt = generalIteration(A, A1Inv, A2, f, u0, maxIter, TOL)\n",
    "\n",
    "    return out, res, relTimeIt, totTimeIt, specRad"
   ]
  },
  {
   "cell_type": "code",
   "execution_count": 15,
   "metadata": {},
   "outputs": [],
   "source": [
    "def SuccessOverRelaxMeth(A, f, u0, maxIter = 50, TOL = 1e-10, *args):\n",
    "    \"\"\"\n",
    "    Implementation of the Success over relaxation Method\n",
    "\n",
    "    --Parameters--\n",
    "    A: NumPy Matrix\n",
    "        The A matrix from the problem\n",
    "    f: NumPy Array\n",
    "        The f vector from the problem\n",
    "    u0: NumPy Array\n",
    "        Initial guess\n",
    "    maxIter: Integer\n",
    "        Maximal iteration depth\n",
    "    TOL: Float\n",
    "        Level of Tolerance\n",
    "    *args: A hack\n",
    "        The first element of args is assigned to be w. If no element has been provided, fall back to 0.5\n",
    "\n",
    "    --Returns--\n",
    "    Returns the arguments from the generalIteration function\n",
    "    \"\"\"\n",
    "    # Initialize problem\n",
    "    if len(list(args)) == 0:\n",
    "        w = 0.5\n",
    "    else:\n",
    "        w = args[0]\n",
    "    A1Inv = np.linalg.inv(extractDiagonal(A) - w*extractLower(A))\n",
    "    A2 = (1-w)*extractLower(A) + extractUpper(A)\n",
    "\n",
    "    specRad = getSpectralRadius(A1Inv @ A2)\n",
    "    out, res, relTimeIt, totTimeIt = generalIteration(A, A1Inv, A2, f, u0, maxIter, TOL)\n",
    "\n",
    "    return out, res, relTimeIt, totTimeIt, specRad"
   ]
  },
  {
   "cell_type": "code",
   "execution_count": 16,
   "metadata": {},
   "outputs": [],
   "source": [
    "def randomVec(n, reach):\n",
    "    \"\"\"\n",
    "    Creating a random vector\n",
    "\n",
    "    --Parameters--\n",
    "    n: Integer\n",
    "        Dimension of the vector\n",
    "    reach: Float\n",
    "        the values of each element in the vector is within the interval (-reach,reach)\n",
    "\n",
    "    --Returns--\n",
    "    Returns a vector of dimension n with random entries.\n",
    "    \"\"\"\n",
    "    np.random.seed()\n",
    "    v = np.random.rand(n)\n",
    "    trans = lambda x: 2*reach*(x-1/2)\n",
    "    return trans(v)"
   ]
  },
  {
   "cell_type": "code",
   "execution_count": 17,
   "metadata": {},
   "outputs": [],
   "source": [
    "def testIteration(Iterative, initVal = False, A = test, f = randomVec(9, 10), u0 = randomVec(9, 10), maxIter = 50, TOL = 1e-10, *args):\n",
    "    \"\"\"\n",
    "    Implementation of a random test generator\n",
    "\n",
    "    --Parameters--\n",
    "    Iterative: Function\n",
    "        This is which iteration method as defined above should be used\n",
    "    A: NumPy Matrix\n",
    "        The matrix given as A\n",
    "    f: NumPy Array\n",
    "        The f vector from the problem\n",
    "    u0: NumPy Array\n",
    "        Initial guess\n",
    "    maxIter: Integer\n",
    "        Maximal iteration depth\n",
    "    TOL: Float\n",
    "        Level of Tolerance\n",
    "    *args: A hack\n",
    "\n",
    "    --Returns--\n",
    "    Returns a tuple of four things:\n",
    "        1. The order of convergence\n",
    "        2. The average iteration time\n",
    "        3. the average norm-calculation time\n",
    "        4. The level of tolerance\n",
    "    \"\"\"\n",
    "    out, res, relTimeIt, totTimeIt, specRad = Iterative(A, f, u0, maxIter, TOL, *args)\n",
    "\n",
    "    if initVal:\n",
    "        print(f\"u0:\\n{u0}\")\n",
    "        print(f\"f:\\n{f}\")\n",
    "        print(f\"Solution:\\n{out[-1]}\")\n",
    "\n",
    "    relRes = []\n",
    "    diffTime = []\n",
    "\n",
    "    totNow = time.time() # Start \"total\" stopwatch\n",
    "    \n",
    "    for x in res:\n",
    "        now = time.time()\n",
    "        relRes.append(np.linalg.norm(x)/np.linalg.norm(res[0]))\n",
    "        then = time.time()\n",
    "        diffTime.append(then-now)\n",
    "\n",
    "    totThen = time.time() # Stop \"total\" stopwatch\n",
    "    totDiffTime = totThen - totNow \n",
    "\n",
    "    diffRes = [relRes[i+1]/relRes[i] for i in range(1, len(relRes)-1)]\n",
    "\n",
    "    avgItTime = sum(relTimeIt)/len(relTimeIt)\n",
    "    avgDiffTime = sum(diffTime)/len(diffTime)\n",
    "\n",
    "    return diffRes[-1], specRad, avgItTime, avgDiffTime, TOL, relRes"
   ]
  },
  {
   "cell_type": "code",
   "execution_count": 18,
   "metadata": {},
   "outputs": [],
   "source": [
    "# This is part one of the solution to taks i)\n",
    "def rankResidues(A, w=0.7, printable = False):\n",
    "    \"\"\"\n",
    "    A function which makes a plot of the relative residues from the different methods\n",
    "    It generates a random f and creates a random guess, to randomize the test\n",
    "\n",
    "    --Parameter--\n",
    "    A - NumPy Matrix\n",
    "        The matrix to use a base for the iteration problem\n",
    "\n",
    "    --Side-effect--\n",
    "    Prints a plot of the residues\n",
    "\n",
    "    --Returns--\n",
    "    A tuple of the residues\n",
    "    \"\"\"\n",
    "\n",
    "    f, u = randomVec(100, 10), randomVec(100, 10)\n",
    "    methods = [jacobiMeth, ForwardGSMeth, SuccessOverRelaxMeth]\n",
    "    names = [\"Jacobi\", \"FGS\", \"SOR\"]\n",
    "\n",
    "    pilates = [testIteration(meth, False, A, f, u, 50, 1e-10, w)[-1] for meth in methods]\n",
    "\n",
    "    for i in range(len(names)):\n",
    "        pilates[i] = (names[i], pilates[i])\n",
    "\n",
    "    if printable:\n",
    "        plt.figure()\n",
    "        #plt.axes()\n",
    "        for el in pilates:\n",
    "            plt.semilogy(el[1], label = el[0])\n",
    "        plt.legend()\n",
    "        plt.show()\n",
    "\n",
    "\n",
    "    return pilates\n",
    "\n",
    "hack = rankResidues(toRun, True) # Need to bind the output, so that jupyter won't print it"
   ]
  },
  {
   "cell_type": "code",
   "execution_count": 19,
   "metadata": {},
   "outputs": [
    {
     "name": "stdout",
     "output_type": "stream",
     "text": [
      "Smallest at: 1.3586413586413586\n"
     ]
    },
    {
     "data": {
      "image/png": "[encoded data removed]",
      "text/plain": [
       "<Figure size 432x288 with 1 Axes>"
      ]
     },
     "metadata": {
      "needs_background": "light"
     },
     "output_type": "display_data"
    }
   ],
   "source": [
    "# This is part two of the solution of i)\n",
    "def optimalSOR(fineness, A, f, u, printable = False):\n",
    "    \"\"\"\n",
    "    A test for finding different convergence rates for the SOR-method\n",
    "\n",
    "    --Parameters--\n",
    "    fineness - Integer\n",
    "        How many steps the graph should take\n",
    "    A - NumPy Matrix\n",
    "        iteration problem matrix\n",
    "    f - NumPy Array\n",
    "        iteration problem vector\n",
    "    u - NumPy Array\n",
    "        initial guess\n",
    "    printable - Bool\n",
    "        If it should print the graph or not print the graph\n",
    "\n",
    "    --Side-effect--\n",
    "    Prints a plot of the graph\n",
    "\n",
    "    --Returns--\n",
    "    Returns all the statistics from the SOR-tests\n",
    "    \"\"\"\n",
    "    somethingsomething = [2*i/(fineness+1) for i in range(1, (fineness+1))]\n",
    "    tests = [testIteration(SuccessOverRelaxMeth, False, A, f, u, 100, 1e-10, 2*i/(fineness+1)) for i in range(1,(fineness+1))]\n",
    "    if printable:\n",
    "        plt.figure()\n",
    "        plt.plot(somethingsomething, [el[0] for el in tests])\n",
    "\n",
    "    return somethingsomething, tests\n",
    "\n",
    "\n",
    "f, u = randomVec(100, 10), randomVec(100, 10)\n",
    "\n",
    "smol = (0, 1)\n",
    "\n",
    "somethingsomething, tests = optimalSOR(1000, toRun, f, u, True)\n",
    "pairing = [(somethingsomething[i], tests[i][0]) for i in range(len(tests))]\n",
    "for tup in pairing:\n",
    "    if tup[1] < smol[1]: smol = tup\n",
    "\n",
    "print(f\"Smallest at: {smol[0]}\")"
   ]
  },
  {
   "cell_type": "code",
   "execution_count": 20,
   "metadata": {},
   "outputs": [],
   "source": [
    "# Solution of ii)\n",
    "def rankMethods(A, w=0.5, printable = False):\n",
    "    \"\"\"\n",
    "    A function which makes a table of statistics from the different methods\n",
    "    It generates a random f and creates a random guess, to randomize the test\n",
    "\n",
    "    --Parameter--\n",
    "    A - NumPy Matrix\n",
    "        The matrix to use a base for the iteration problem\n",
    "\n",
    "    --Side-effect--\n",
    "    Prints a table of the statistics\n",
    "\n",
    "    --Returns--\n",
    "    The list of the statistics\n",
    "    \"\"\"\n",
    "\n",
    "    f, u = randomVec(100, 10), randomVec(100, 10)\n",
    "    methods = [jacobiMeth, ForwardGSMeth, SuccessOverRelaxMeth]\n",
    "    names = [\"Jacobi\", \"FGS\", \"SOR\"]\n",
    "    tolerances = [1e-7, 1e-14]\n",
    "    others = [list(testIteration(meth, False, A, f, u, 1000, tol, w)[:-1]) for tol in tolerances for meth in methods]\n",
    "\n",
    "    for i in range(len(others)):\n",
    "        others[i].insert(0, names[i%3])\n",
    "\n",
    "    if printable:\n",
    "        x = PrettyTable()\n",
    "\n",
    "        x.field_names = [\"Method Name\", \"Rate of Convergence\", \"Spectal Radius\", \"Average Iteration time\", \"Average Norm Time\", \"Tolerance\"]\n",
    "\n",
    "        for el in others:\n",
    "            x.add_row(el)\n",
    "\n",
    "        print(x)\n",
    "\n",
    "    return others\n",
    "\n",
    "hack = rankMethods(toRun, True) # Need to bind the output, so that jupyter won't print it"
   ]
  },
  {
   "cell_type": "code",
   "execution_count": 21,
   "metadata": {},
   "outputs": [],
   "source": [
    "def compareConvSpec(A, method, f = randomVec(100, 10), u = randomVec(100, 10), w=0.5, printable = False):\n",
    "    \"\"\"\n",
    "    A function which compares the Rate of Convergence to the Spectral Radius\n",
    "    The SOR method has w = 0.5 for all tests\n",
    "\n",
    "    --Parameters--\n",
    "    A - NumPy Matrix\n",
    "        Defining matrix for the iteration method\n",
    "\n",
    "    method - Function\n",
    "        The iteration method to use\n",
    "\n",
    "    --Side-Effects--\n",
    "    Prints the rate of convergence alongside its spectral radius\n",
    "\n",
    "    --Returns--\n",
    "    Returns the statistics for the test\n",
    "    \"\"\"\n",
    "    subject = testIteration(method, False, A, f, u, 1000, 1e-10, w)\n",
    "\n",
    "    if printable: print(f\"Rate of convergence: {subject[0]}\\nSpectralradius: {subject[1]}\")\n",
    "\n",
    "    return subject"
   ]
  },
  {
   "cell_type": "code",
   "execution_count": 22,
   "metadata": {},
   "outputs": [
    {
     "name": "stdout",
     "output_type": "stream",
     "text": [
      "Jacobi\n",
      "-------------------------------------------------\n",
      "Rate of Convergence: 0.8645942873242493\n",
      "Spectral Radius: 0.8650653134026233\n",
      "\n",
      "FGS\n",
      "-------------------------------------------------\n",
      "Rate of Convergence: 0.7526550372889319\n",
      "Spectral Radius: 0.7526561945006798\n",
      "\n",
      "SOR - w = 1.3586413586413586\n",
      "-------------------------------------------------\n",
      "Rate of Convergence: 0.8270620833615107\n",
      "Spectral Radius: 0.8270596956759886\n",
      "\n"
     ]
    },
    {
     "data": {
      "image/png": "[encoded data removed]",
      "text/plain": [
       "<Figure size 432x288 with 1 Axes>"
      ]
     },
     "metadata": {
      "needs_background": "light"
     },
     "output_type": "display_data"
    }
   ],
   "source": [
    "def rankSpec(fineness, A, w, printable = False):\n",
    "    f, u = randomVec(100, 10), randomVec(100, 10)\n",
    "\n",
    "    methods = [jacobiMeth, ForwardGSMeth, SuccessOverRelaxMeth]\n",
    "    names = [\"Jacobi\", \"FGS\", f\"SOR - w = {w}\"]\n",
    "    tests = [compareConvSpec(toRun, methods[i], f, u) for i in range(len(methods))]\n",
    "\n",
    "    _, sors = optimalSOR(15, toRun, f, u)\n",
    "    plotlist = [tests[0][1]]\n",
    "\n",
    "    for el in sors:\n",
    "        plotlist.append(el[1])\n",
    "\n",
    "    if printable:    \n",
    "        for i in range(len(methods)):\n",
    "            print(f\"{names[i]}\")\n",
    "            print(\"-------------------------------------------------\")\n",
    "            print(f\"Rate of Convergence: {tests[i][0]}\\nSpectral Radius: {tests[i][1]}\\n\")\n",
    "        \n",
    "        # print(plotlist) # There is something strange with this plot\n",
    "    \n",
    "        scalelist = list(np.arange(0,2,2/(len(plotlist)-1)))\n",
    "        scalelist.append(2.)\n",
    "\n",
    "        plt.figure()\n",
    "        plt.semilogy(scalelist, plotlist, label = \"Spectral Radius\")\n",
    "        plt.legend()\n",
    "\n",
    "rankSpec(15, toRun, smol[0], True)"
   ]
  },
  {
   "cell_type": "code",
   "execution_count": null,
   "metadata": {},
   "outputs": [],
   "source": []
  }
 ],
 "metadata": {
  "kernelspec": {
   "display_name": "Python 3",
   "language": "python",
   "name": "python3"
  },
  "language_info": {
   "codemirror_mode": {
    "name": "ipython",
    "version": 3
   },
   "file_extension": ".py",
   "mimetype": "text/x-python",
   "name": "python",
   "nbconvert_exporter": "python",
   "pygments_lexer": "ipython3",
   "version": "3.8.1"
  }
 },
 "nbformat": 4,
 "nbformat_minor": 2
}
